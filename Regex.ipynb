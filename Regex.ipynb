{
 "cells": [
  {
   "cell_type": "markdown",
   "metadata": {},
   "source": [
    "# Brief Project : Regex and Search Pattern"
   ]
  },
  {
   "cell_type": "markdown",
   "metadata": {},
   "source": [
    "### Compétence : utiliser et maîtriser les expressions régulières dans les scripts Python (optique Data)."
   ]
  },
  {
   "cell_type": "markdown",
   "metadata": {},
   "source": [
    "![alt text](http://www.codercaste.com/wp-content/uploads/2013/01/regex.gif)"
   ]
  },
  {
   "cell_type": "markdown",
   "metadata": {},
   "source": [
    "## Quelques ressources utiles : "
   ]
  },
  {
   "cell_type": "markdown",
   "metadata": {},
   "source": [
    "http://www.rexegg.com/regex-quickstart.html  \n",
    "http://www.dreambank.net/regex.html#examples  \n",
    "https://pythex.org/ (Pythex is a real-time regular expression editor for Python, a quick way to test your regular expressions.)   \n",
    "https://regex101.com/   \n",
    "(Regex101 is online regex editor and debugger. Regex101 allows you to create, debug, test and have your expressions explained for PHP, PCRE, Python, Golang and JavaScript. The website also features a community where you can share useful expressions.)\n"
   ]
  },
  {
   "cell_type": "code",
   "execution_count": 1,
   "metadata": {},
   "outputs": [],
   "source": [
    "import re\n",
    "import string"
   ]
  },
  {
   "cell_type": "markdown",
   "metadata": {},
   "source": [
    "***\n",
    "## Avant de commencer "
   ]
  },
  {
   "cell_type": "markdown",
   "metadata": {},
   "source": [
    "**Q : Quel est le rôle d'un suffixe r devant une chaîne de caractère ?**   "
   ]
  },
  {
   "cell_type": "code",
   "execution_count": 2,
   "metadata": {},
   "outputs": [
    {
     "name": "stdout",
     "output_type": "stream",
     "text": [
      "\t- Un pattern (motif de recherche) est 1str.\n",
      "\t- Tu le mettra tjrs entre guillemets et Tu le précédera d'1 r\n"
     ]
    }
   ],
   "source": [
    "print(\"\\t- Un pattern (motif de recherche) est 1str.\\n\\t- Tu le mettra tjrs entre guillemets et Tu le précédera d'1 r\")"
   ]
  },
  {
   "cell_type": "code",
   "execution_count": 3,
   "metadata": {
    "scrolled": true
   },
   "outputs": [
    {
     "name": "stdout",
     "output_type": "stream",
     "text": [
      "\\t- Un pattern (motif de recherche) est 1str.\\n\\t- Tu le mettra tjrs entre guillemets et Tu le précédera d'1 r\n"
     ]
    }
   ],
   "source": [
    "print (r\"\\t- Un pattern (motif de recherche) est 1str.\\n\\t- Tu le mettra tjrs entre guillemets et Tu le précédera d'1 r\")"
   ]
  },
  {
   "cell_type": "markdown",
   "metadata": {},
   "source": [
    "**Q : Les pièges de la méthode strip() ? Vs avez déjà utilisé la méthode strip(), celle-ci supp la chaîne de caractères non désirée aux extrémités (lstrip() et rstrip() resp. : left et right).**"
   ]
  },
  {
   "cell_type": "code",
   "execution_count": 4,
   "metadata": {},
   "outputs": [
    {
     "name": "stdout",
     "output_type": "stream",
     "text": [
      "test1\r",
      "test2\n"
     ]
    }
   ],
   "source": [
    "#Qu'est-ce qu'un whitespace ? On pense que c'est juste l'espace mais ds Python c plus que ça ! La preuve : \n",
    "'\\t\\n\\r test '.strip()\n",
    "string.whitespace\n",
    "#Q : Qu'est-ce que le \\r ? \n",
    "print('test1\\rtest2')"
   ]
  },
  {
   "cell_type": "code",
   "execution_count": 5,
   "metadata": {},
   "outputs": [
    {
     "data": {
      "text/plain": [
       "'test_strip'"
      ]
     },
     "execution_count": 5,
     "metadata": {},
     "output_type": "execute_result"
    }
   ],
   "source": [
    "#Supprimer '[' et ']' ds la str \"[test_strip]\" ?\n",
    "'[test_strip]'.strip('[')  #ça fonctionne pr le '[' (à gauche).\n",
    "'[test_strip]'.strip(']')  #ça fonctionne pr le ']' (à droite). \n",
    "'[test_strip]'.strip('[]') #ça fonctionne malgré le fait que la str n'est pas de la forme suivante :  \n",
    "'[]test_strip[]'.strip('[]')\n"
   ]
  },
  {
   "cell_type": "code",
   "execution_count": 6,
   "metadata": {},
   "outputs": [
    {
     "data": {
      "text/plain": [
       "'test_strip'"
      ]
     },
     "execution_count": 6,
     "metadata": {},
     "output_type": "execute_result"
    }
   ],
   "source": [
    "#Un 2è exemple pr se convaincre : \n",
    "\"* **  * test_strip \".strip('* ') "
   ]
  },
  {
   "cell_type": "code",
   "execution_count": 7,
   "metadata": {},
   "outputs": [
    {
     "data": {
      "text/plain": [
       "'test'"
      ]
     },
     "execution_count": 7,
     "metadata": {},
     "output_type": "execute_result"
    }
   ],
   "source": [
    "'**  * test ' # comportement attendu mais faux\n",
    "\"* **  * test \".strip('* ')\n",
    "'test'  # comportement réel"
   ]
  },
  {
   "cell_type": "code",
   "execution_count": 8,
   "metadata": {},
   "outputs": [
    {
     "data": {
      "text/plain": [
       "'est_strip'"
      ]
     },
     "execution_count": 8,
     "metadata": {},
     "output_type": "execute_result"
    }
   ],
   "source": [
    "#Un dernier exemple (dangereux) :  \n",
    "#\"* **  * test_strip \".strip('* t')\n",
    "#\"* **  * test_strip \".strip('t* ') \n",
    "\"* **  * test_strip \".strip('*t ') "
   ]
  },
  {
   "cell_type": "markdown",
   "metadata": {},
   "source": [
    "***\n",
    "## Le module regex"
   ]
  },
  {
   "cell_type": "code",
   "execution_count": 2,
   "metadata": {},
   "outputs": [],
   "source": [
    "import re\n",
    "import string"
   ]
  },
  {
   "cell_type": "markdown",
   "metadata": {},
   "source": [
    "- Il existe deux manières d’utiliser les regex :\n",
    "    - La première consiste à appeler la fonction avec en 1er paramètre le motif, et en 2è paramètre la chaine à analyser.\n",
    "    - La seconde manière consiste à compiler la regex, et à ensuite utiliser les méthodes de l’objet crée pour analyser une chaine passée en argument. Cette méthode permet d’accélérer le traitement lorsqu’une regex est utilisée plusieurs fois.  "
   ]
  },
  {
   "cell_type": "raw",
   "metadata": {},
   "source": [
    "re.search(pattern, string) #pattern est écrite entre ''\n",
    "#Chercher le pattern dans le string passé et retourner un MatchObject si des correspondances sont trouvées,\n",
    "#sinon retourner None.\n",
    "re.split(pattern, string)\n",
    "#Découpe le string string selon les occurences du pattren.\n",
    "\n",
    "result = re.match(pattern, string)\n",
    "#Est équivalente à \n",
    "prog = re.compile(pattern)\n",
    "result = prog.match(string)"
   ]
  },
  {
   "cell_type": "markdown",
   "metadata": {},
   "source": [
    "***\n",
    "**Les caractères spéciaux (en vrac, liste non exhaustive)**   "
   ]
  },
  {
   "cell_type": "markdown",
   "metadata": {},
   "source": [
    "Caractère | Signification   \n",
    ":-------------------------:|:-------------------------:\n",
    "**.**|**Désigne n’importe quel caractère.**\n",
    "**^**|**Indique que le début de la chaine doit correspondre (c’est à dire qu’une chaine ne pourra correspondre que si elle commence de la même manière, qu’elle est précédée d’espaces ou d’un saut de ligne).**\n",
    "**$**|**Indique que la fin de la chaine doit correspondre (la même remarque que précédemment s’applique, mais au niveau de la fin).**\n",
    "**{n}**|**Indique que le caractère précédent doit être répété n fois.**\n",
    "**{n,m}**|**Indique que le caractère précédent doit être répété entre n et m fois.**\n",
    "** * **|**Le caractère précédent peut être répété aucune ou plusieurs fois. Par exemple, à ab* peuvent correspondre : a, ab, ou a suivi d’un nombre quelconque de b.**\n",
    "**+**|**Le caractère précédent peut être répété une ou plusieurs fois. Par exemple, à ab+ correspond un a suivi d’un nombre quelconque de b.**\n",
    "**?**|**Le caractère précédent peut être répété zéro ou une fois. Par exemple, à ab? correspondent ab et a.**"
   ]
  },
  {
   "cell_type": "markdown",
   "metadata": {},
   "source": [
    "Autres cacartères spéciaux très utiles |Signification    \n",
    ":-------------------------:|:------------------------- :\n",
    "**\\w** | **il correspond à tout caractère alphabétique, c’est à dire qu’il est équivalent à [a-zA-Z].**\n",
    "**\\W** | **il correspond à tout ce qui n’est pas un caractère alphabétique.**\n",
    "**\\d** | **il correspond à tout caractère numérique, c’est à dire qu’il est équivalent à [0-9].**\n",
    "**\\D** | **il correspond à tout ce qui n’est pas un caractère numérique.**"
   ]
  },
  {
   "cell_type": "markdown",
   "metadata": {},
   "source": [
    "***\n",
    "**Q : Compléter le script suivant pr vérifier que la chaîne saisie est bien celle d’un nombre (méthode input() : c'est à vs de saisir et de tester) ?** "
   ]
  },
  {
   "cell_type": "markdown",
   "metadata": {},
   "source": [
    "**   Remarque :  **  \n",
    "-    *Pr la réponse, vs utiliserez successivement les méthodes spécifiques aux chaînes de caractères (split, strip, islower,...), la méthode regex sans compilation et la méthode regex avec compilation.*  \n",
    "    ** N.B : Ceci est aussi valable pr les questions qui suiveront ** (lorsq c'est possible évidemment pr les les méthodes spécifiques aux chaînes de caractères).  \n",
    "- *L'objectif est de voir les diff façon de le faire. Surtout, qd la méthode regex devient pertinente.*  \n",
    "    ** Je vous fournis la correction de la 1è Q (comme modèle) :  **"
   ]
  },
  {
   "cell_type": "code",
   "execution_count": 10,
   "metadata": {},
   "outputs": [
    {
     "name": "stdout",
     "output_type": "stream",
     "text": [
      "Votre nombre : 456\n",
      "True\n",
      "False\n",
      "True\n",
      "True\n",
      "La chaine saisie est bien un nombre ...\n",
      "La chaine saisie n'est pas un nombre ...\n"
     ]
    }
   ],
   "source": [
    "nb = input('Votre nombre : ') # ex : 12, 12a\n",
    "#Q : Est-ce que je peux me limiter à une méthode str ?  A quoi sert ces diff méthodes de str ? \n",
    "print(nb.isalnum()) #True (mais ça marche aussi pr 12a) : alphanumeric\n",
    "print(nb.isalpha()) #False\n",
    "print(nb.isdecimal())\n",
    "print(nb.isdigit())\n",
    "\n",
    "# Je passe par 2méthodes : re.match() et re.search()\n",
    "\n",
    "# : Avec re (1è façon)\n",
    "if (re.match(r\"^[0-9]+$\", nb)): \n",
    "    print(\"La chaine saisie est bien un nombre ...\")\n",
    "else:\n",
    "    print(\"La chaine saisie n'est pas un nombre ...\")\n",
    "    \n",
    "# Explication de la regex :     \n",
    "    # ^ : Marque le début de la chaine, la ligne...\n",
    "    \n",
    "    # [0-9] : Un chiffre entre 0 et 9. Vous pouvez préciser entre crochets plusieurs caractères.\n",
    "    # Par exemple, si vous écrivez [abcd], cela signifie : l'une des lettres parmi a,b,c et d.\n",
    "    # L'expression [A-Z] signifie « une lettre majuscule ». \n",
    "    # L'expression [A-Za-z0-9] signifie « une lettre majuscule ou minuscule, ou un chiffre ».\n",
    "    \n",
    "    # + : Présence de l’ensemble de caractères qui précède entre 1 fois et l’infini.\n",
    "    # Par exemple, à ab+ correspond un a suivi d’un nombre quelconque de b.\n",
    "    \n",
    "    # $ : Le symbole $ veut dire que l'expression doit être à la fin de la chaîne. \n",
    "    # Astuce : Si vs placez l'expression recherhée entre ^ et $, cela signifie que \n",
    "    # la chaîne dans laquelle on recherche ne doit rien contenir d'autre que l'expression.\n",
    "\n",
    "#Q : Avec re.compile (2è façon)\n",
    "prog = re.compile(\"^[0-9]+$\")\n",
    "if not prog.search(nb) is not None : \n",
    "    print(\"La chaine saisie est bien un nombre ...\")\n",
    "else : \n",
    "    print(\"La chaine saisie n'est pas un nombre ...\")"
   ]
  },
  {
   "cell_type": "raw",
   "metadata": {},
   "source": [
    "**Q : Trouver tous les adverbes en -ment ?**   "
   ]
  },
  {
   "cell_type": "code",
   "execution_count": 11,
   "metadata": {},
   "outputs": [
    {
     "name": "stdout",
     "output_type": "stream",
     "text": [
      "['prudemment', 'rapidement']\n"
     ]
    }
   ],
   "source": [
    "text = \"Il s'était prudemment déguisé mais fut rapidement capturé par la police.\"\n",
    "r = re.findall(r\"[a-zA-Z]+ment\",text)\n",
    "print(r)\n",
    " "
   ]
  },
  {
   "cell_type": "markdown",
   "metadata": {},
   "source": [
    "***\n",
    "**Q : Une plaque d’immatriculation est composée de 2 lettres majuscules, un tiret ('-'), 3 chiffres, un tiret ('-') et enfin de 2 lettres majuscules. Ecrire 1script pr vérifier qu'une chaîne saisie est bien celle d’une plaque d’immatriculation (méthode input() : c'est à vs de saisir et de tester) ?**   "
   ]
  },
  {
   "cell_type": "code",
   "execution_count": 14,
   "metadata": {},
   "outputs": [
    {
     "name": "stdout",
     "output_type": "stream",
     "text": [
      "enter you code : AS-345-QW\n",
      "ok\n"
     ]
    }
   ],
   "source": [
    "i = input('enter you code : ')\n",
    "prog = re.compile('^[A-Z]{2}\\-\\d{3}\\-[A-Z]{2}$')\n",
    "if re.findall(prog,i):\n",
    "    print('ok')\n",
    "else:\n",
    "    print('try again')\n"
   ]
  },
  {
   "cell_type": "code",
   "execution_count": 15,
   "metadata": {},
   "outputs": [
    {
     "name": "stdout",
     "output_type": "stream",
     "text": [
      "enter your code: PA-234-QW\n",
      "ok\n"
     ]
    }
   ],
   "source": [
    "#second method\n",
    "l = input('enter your code: ')\n",
    "if re.findall(r\"^[A-Z]{2}-[0-9]{3}-[A-Z]{2}$\",l):\n",
    "    print('ok')\n",
    "else:\n",
    "    print('try again')"
   ]
  },
  {
   "cell_type": "markdown",
   "metadata": {},
   "source": [
    "#[0-9]{1,3}\\.){3}[0-9]{1,3}\n",
    "#245.50.0.8\n",
    "#[A-Z]{2}\\-\\d{3}\\-[A-Z]{2}"
   ]
  },
  {
   "cell_type": "markdown",
   "metadata": {},
   "source": [
    "***\n",
    "**Q : Une adresse IPv4 est composée de 4 nombres entre 0 et 255 séparés par des '.' ? Ecrire 1script pr vérifier qu'une chaîne saisie est bien celle d’une adresse IPv4 (méthode input() : c'est à vs de saisir et de tester) ?**   "
   ]
  },
  {
   "cell_type": "code",
   "execution_count": 16,
   "metadata": {},
   "outputs": [
    {
     "name": "stdout",
     "output_type": "stream",
     "text": [
      "enter your code:234.367.363.33\n",
      "ok\n"
     ]
    }
   ],
   "source": [
    "import re\n",
    "while True:\n",
    "    i = input('enter your code:')\n",
    "    if re.match(r\"(\\d{1,3}\\.){3}\\d{1,3}$\",i):\n",
    "        print('ok')\n",
    "        break\n",
    "    else:\n",
    "        print('try again')\n",
    "    print(i)"
   ]
  },
  {
   "cell_type": "markdown",
   "metadata": {},
   "source": [
    "***\n",
    "## Chaîne de valeur de création d'un compte sur un site\n",
    "\n",
    "Un outil ludique pr travailler sur Python : pour suivre pas à pas l’exécution d’un programme (petit)  \n",
    "\n",
    "http://pythonTutor.com\n",
    "\n",
    "**Un email est composé de caractères alphanumériques suivis de @ et d’un nom de domaine.**\n",
    "- Q : Ecrire 1script qui vérifie que la chaîne saisie par un User est bien celle d’un email, sinon lui demander de resaisir à nouveau (jusqu'à obtenir un email valide) ?    \n",
    "- Q : Augmenter le script pour taper le mot de passe (mdp, évidemment si l'email est valide où la seule spécifité du mdp est de contenir au moins 4caractères) ?\n",
    "\n",
    "** Suite à un Pb de hacking des mdp, la direction SI a mis en place 1politique de sécurité (renforcement des mdp).  **  \n",
    "- Q : Le mot de passe doit maintenant contenir au moins 6 caractères : au moins une lettre en miniscule ET au moins une lettre en majuscule Et au moins un chiffre Et au moins un charactére spécial (parmi $#@).\n",
    "\n",
    "![alt text](https://d2d3qesrx8xj6s.cloudfront.net/img/screenshots/f84ff6136551983c1eaa01c1d80d2e8439b3087c.jpg)\n",
    "\n",
    "\n",
    "- Q : Augmenter le script pour qu'il puisse donner automtiquement l'identifiant. Par ex : durant@nomdomaine.com => identifiant = durant. Le contexte : envoi de mails de confirmation qui comporteraient les identifiants (pr valider l'inscription, ex Bonjour M. Durant, Félicitation ! Votre inscri est confirmé.) ? **   \n",
    "- Q Optionnel : Extraire le nom de domaine de l'email (yahoo.fr ; outlook.com,...) "
   ]
  },
  {
   "cell_type": "markdown",
   "metadata": {},
   "source": [
    "A supprimer (du notebook sans correc)\n",
    "- S : Un apprenant qui se prends la tête : il ne souhaite pas passer par regex (consulter le pavé de code qu'il écrit https://codereview.stackexchange.com/questions/165187/password-checker-in-python). \n",
    "- S : Le vrai process de validation de mails (https://www.scottbrady91.com/Email-Verification/Python-Email-Verification-Script\n",
    "vs avez construit 50% du process, il reste à valider le nom de domaine mais ce n'est pas notre 'domaine'). "
   ]
  },
  {
   "cell_type": "markdown",
   "metadata": {},
   "source": [
    "- Réecrire le script où vs tenez du nouveau format de mdp et où vs indiquez au User le niveau de sécurité corresp à son mdp : \n",
    "\n",
    "    - Niveau faible : exactement 6 caractères. \n",
    "    - Niveau faible : Que des lettres (miniscules ou majuscules) peu importe leur nombre\n",
    "    - Niveau elevé : plus de 6 caractères et mélange de\n",
    "    - Interdit : Une suite consécutive de chiffre : ex, 123456."
   ]
  },
  {
   "cell_type": "markdown",
   "metadata": {},
   "source": [
    "#(r\"^[a-zA-Z0-9-._]+@{1}[a-zA-Z0-9]+\\.[a-z]{2,4}$\")"
   ]
  },
  {
   "cell_type": "code",
   "execution_count": 18,
   "metadata": {},
   "outputs": [
    {
     "name": "stdout",
     "output_type": "stream",
     "text": [
      "enter your email :raedone23@gmail.com\n",
      "E-mail valide !\n",
      "enter mdp: 234\n",
      "your mdp is valid\n"
     ]
    },
    {
     "data": {
      "text/plain": [
       "'raedone23@gmail.com'"
      ]
     },
     "execution_count": 18,
     "metadata": {},
     "output_type": "execute_result"
    }
   ],
   "source": [
    "import re\n",
    "def log_in():\n",
    "    email = input('enter your email :')\n",
    "    prog = re.compile('^[a-zA-Z0-9-._]+@{1}[a-zA-Z0-9]+\\.[a-z]{2,4}$')\n",
    "    mdp_type = re.compile('\\d+')\n",
    "    while True:\n",
    "        if prog.search(email) is not None :\n",
    "            print('E-mail valide !')\n",
    "            while True:\n",
    "                mdp = input('enter mdp: ')\n",
    "                if mdp_type.search(mdp) is not None:\n",
    "                    print('your mdp is valid')\n",
    "                    return email\n",
    "                else:\n",
    "                    mdp_type = input('enter mdp: ')\n",
    "        else:\n",
    "              email = input('enter your email :')\n",
    "log_in()\n"
   ]
  },
  {
   "cell_type": "code",
   "execution_count": null,
   "metadata": {},
   "outputs": [
    {
     "name": "stdout",
     "output_type": "stream",
     "text": [
      "enter your email : raedone23@gmail.com\n",
      "your email is valid\n",
      "enter your mpass : 345\n",
      "your mpass is valid \n"
     ]
    }
   ],
   "source": [
    "import re\n",
    "import string\n",
    "def find():\n",
    "    email = re.compile('\\w+\\d+\\@\\w+\\.\\w+')\n",
    "    pas = re.compile('\\d+')\n",
    "    while True:\n",
    "        enter_email = input('enter your email : ')\n",
    "        if email.search(enter_email) is not None:\n",
    "            print('your email is valid')\n",
    "            while True:\n",
    "                mpass = input('enter your mpass : ')\n",
    "                if pas.search(mpass) is not None:\n",
    "                    print('your mpass is valid ')\n",
    "                else:\n",
    "                    mpas = input('enter your mpas again : ')\n",
    "                    break\n",
    "        else:\n",
    "            enter_email = input('enter your email again')\n",
    "            break\n",
    "find() "
   ]
  },
  {
   "cell_type": "code",
   "execution_count": null,
   "metadata": {},
   "outputs": [],
   "source": [
    "### Du Regex vers une liste vers un dico\n",
    "reading_text = 'Durant a 15 ans et Dupont a 19 ans. Mickeal a 20 et Jessica a 22 ans' \n",
    "**Q : Extraire les noms des individus et leur age en (utilisant évidemment le module re) et stocker tt ds 1dictionnaire ?**  \n",
    "Sortie souhaitée : \n",
    "dico = {'Durant' : 15, 'Dupont' : 19, 'Mickeal' : 20, 'Jessica' : 22}"
   ]
  },
  {
   "cell_type": "code",
   "execution_count": 2,
   "metadata": {},
   "outputs": [
    {
     "name": "stdout",
     "output_type": "stream",
     "text": [
      "{'Durant': '15', 'Dupont': '19', 'Mickeal': '20', 'Jessica': '22'}\n"
     ]
    }
   ],
   "source": [
    "import re\n",
    "import string\n",
    "reading_text = 'Durant a 15 ans et Dupont a 19 ans. Mickeal a 20 et Jessica a 22 ans'\n",
    "dic = {}\n",
    "l = 0\n",
    "names = re.findall(r'[A-Z][a-z]*',reading_text)\n",
    "ages = re.findall(r\"\\d{1,2}\",reading_text)\n",
    "for each in names:\n",
    "    dic[each] = ages[l]\n",
    "    l += 1\n",
    "print(dic)"
   ]
  },
  {
   "cell_type": "markdown",
   "metadata": {},
   "source": [
    "- **Q : Fournir la Regex pour ?**  \n",
    "   - Un entier positif :  \n",
    "       - sans limite sur sa taille.\n",
    "       - de taille 10 au max.\n",
    "       - de taille 5 fixe.\n",
    "   - Un entier relatif (négatif) :\n",
    "       - sans limite sur sa taille.\n",
    "       - de taille 10 au max.\n",
    "       - de taille 5 fixe.\n",
    "   - Un entier (positif ou négatif)\n",
    "       - sans limite sur sa taille.\n",
    "       - de taille 10 au max.\n",
    "       - de taille 5 fixe.\n",
    "   - Un nombre :\n",
    "       - positif ou négatif avec ou sans des chiffres après la virgule.\n",
    "       - positif ou négatif avec 2 chiffres après la virgule.\n",
    "           - Les deux dernières Q : le faire aussi pr la notation américaine (le point fait office de la virgule).\n",
    "           \n",
    "- **Q : En se servant des dernières Regex fraîchement construits, fournir alors la regex d'un pourcentage :**\n",
    "   - qui peut ou non comporter le signe %,\n",
    "   - qui peut être soit positif, soit négatif\n",
    "   - qui peut avoir ou non des chiffres après la virgule (att. notation américaine (le point fait office de la virgule) ?  \n",
    "       - Exemple : 0, 0.00, 100.00, 100%, 99.99% (edited)"
   ]
  },
  {
   "cell_type": "markdown",
   "metadata": {},
   "source": [
    " Un entier positif :\n",
    "    sans limite sur sa taille."
   ]
  },
  {
   "cell_type": "code",
   "execution_count": 2,
   "metadata": {},
   "outputs": [
    {
     "name": "stdout",
     "output_type": "stream",
     "text": [
      "saisis ton code : 123\n",
      "ok\n"
     ]
    }
   ],
   "source": [
    "import re\n",
    "import string\n",
    "ip = input('saisis ton code : ')\n",
    "while True:\n",
    "    if re.search('^[0-9]+$',ip):\n",
    "        print('ok')\n",
    "        break\n",
    "    else:\n",
    "        print('saisis de nouveau')\n",
    "        break"
   ]
  },
  {
   "cell_type": "markdown",
   "metadata": {},
   "source": [
    "# Un entier positif : \n",
    "de taille 10 au max."
   ]
  },
  {
   "cell_type": "code",
   "execution_count": 3,
   "metadata": {},
   "outputs": [
    {
     "name": "stdout",
     "output_type": "stream",
     "text": [
      " saisis ton code : 123\n",
      "encore une fois\n",
      "saisis de nouveau : 32\n",
      "encore une fois\n",
      "saisis de nouveau : 1234566781\n",
      "ok\n"
     ]
    }
   ],
   "source": [
    "import re\n",
    "import string\n",
    "inp = input(' saisis ton code : ')\n",
    "prog = re.compile('[0-9]{10}$')\n",
    "while True:\n",
    "    if prog.search(inp) is not None:\n",
    "        print('ok')\n",
    "        break\n",
    "    else:\n",
    "        print('encore une fois')\n",
    "        inp = input('saisis de nouveau : ')"
   ]
  },
  {
   "cell_type": "code",
   "execution_count": 4,
   "metadata": {},
   "outputs": [
    {
     "name": "stdout",
     "output_type": "stream",
     "text": [
      "saisis ton code : 0987654321\n",
      "ok\n"
     ]
    }
   ],
   "source": [
    "import re\n",
    "import string\n",
    "inp = input('saisis ton code : ')\n",
    "if re.match('\\d{0,10}$',inp):\n",
    "    print('ok')\n",
    "else:\n",
    "    print('saisis de nouveau')\n",
    " \n",
    "        "
   ]
  },
  {
   "cell_type": "markdown",
   "metadata": {},
   "source": [
    "Un entier positif de taille 5 fixe."
   ]
  },
  {
   "cell_type": "code",
   "execution_count": 5,
   "metadata": {},
   "outputs": [
    {
     "name": "stdout",
     "output_type": "stream",
     "text": [
      "saisis ton code : 54321\n",
      "ok\n"
     ]
    }
   ],
   "source": [
    "inp = input('saisis ton code : ')\n",
    "if re.match('\\d{5}$',inp):\n",
    "    print('ok')\n",
    "else:\n",
    "    print('saisis de nouveau')\n",
    " \n",
    "        "
   ]
  },
  {
   "cell_type": "markdown",
   "metadata": {},
   "source": [
    "# Un entier relatif (négatif)"
   ]
  },
  {
   "cell_type": "markdown",
   "metadata": {},
   "source": [
    "sans limite sur sa taille."
   ]
  },
  {
   "cell_type": "code",
   "execution_count": 7,
   "metadata": {},
   "outputs": [
    {
     "name": "stdout",
     "output_type": "stream",
     "text": [
      "saisis ton code : 123\n",
      "saisis de nouveau\n"
     ]
    }
   ],
   "source": [
    "inp = input('saisis ton code : ')\n",
    "if re.match('^-\\d+$',inp):\n",
    "    print('ok')\n",
    "else:\n",
    "    print('saisis de nouveau')"
   ]
  },
  {
   "cell_type": "markdown",
   "metadata": {},
   "source": [
    "de taille 10 au max."
   ]
  },
  {
   "cell_type": "code",
   "execution_count": 10,
   "metadata": {},
   "outputs": [
    {
     "name": "stdout",
     "output_type": "stream",
     "text": [
      "saisis ton code : -0987654321\n",
      "ok\n"
     ]
    }
   ],
   "source": [
    "inp = input('saisis ton code : ')\n",
    "if re.match('^-\\d{10}$',inp):\n",
    "    print('ok')\n",
    "else:\n",
    "    print('saisis de nouveau')"
   ]
  },
  {
   "cell_type": "markdown",
   "metadata": {},
   "source": [
    "de taille 5 fixe."
   ]
  },
  {
   "cell_type": "code",
   "execution_count": 2,
   "metadata": {},
   "outputs": [
    {
     "name": "stdout",
     "output_type": "stream",
     "text": [
      "saisis ton code : -76544\n",
      "ok\n"
     ]
    }
   ],
   "source": [
    "inp = input('saisis ton code : ')\n",
    "if re.match('^-\\d{5}$', inp):\n",
    "    print('ok')\n",
    "else:\n",
    "    print('saisis de nouveau')"
   ]
  },
  {
   "cell_type": "markdown",
   "metadata": {},
   "source": [
    "# Un entier (positif ou négatif)"
   ]
  },
  {
   "cell_type": "markdown",
   "metadata": {},
   "source": [
    "sans limite sur sa taille."
   ]
  },
  {
   "cell_type": "code",
   "execution_count": 3,
   "metadata": {},
   "outputs": [
    {
     "name": "stdout",
     "output_type": "stream",
     "text": [
      "saisis ton code : -87\n",
      "ok\n"
     ]
    }
   ],
   "source": [
    "inp = input('saisis ton code : ')\n",
    "if re.match('(-?\\d*) ?(\\d+)$', inp):\n",
    "    print('ok')\n",
    "else:\n",
    "    print('saisis de nouveau')"
   ]
  },
  {
   "cell_type": "markdown",
   "metadata": {},
   "source": [
    "##de taille 10 au max."
   ]
  },
  {
   "cell_type": "code",
   "execution_count": 4,
   "metadata": {},
   "outputs": [
    {
     "name": "stdout",
     "output_type": "stream",
     "text": [
      "saisis ton code : -0987654321\n",
      "ok\n"
     ]
    }
   ],
   "source": [
    "inp = input('saisis ton code : ')\n",
    "if re.match('-?\\d{10}$', inp):\n",
    "    print('ok')\n",
    "else:\n",
    "    print('saisis de nouveau')"
   ]
  },
  {
   "cell_type": "markdown",
   "metadata": {},
   "source": [
    "###de taille 5 fixe."
   ]
  },
  {
   "cell_type": "code",
   "execution_count": 6,
   "metadata": {},
   "outputs": [
    {
     "name": "stdout",
     "output_type": "stream",
     "text": [
      "saisis ton code : 75657\n",
      "ok\n"
     ]
    }
   ],
   "source": [
    "inp = input('saisis ton code : ')\n",
    "if re.match('[\\+\\-]?[0-9]{5}$', inp):\n",
    "    print('ok')\n",
    "else:\n",
    "    print('saisis de nouveau')"
   ]
  },
  {
   "cell_type": "markdown",
   "metadata": {},
   "source": [
    "# positif ou négatif avec ou sans des chiffres après la virgule."
   ]
  },
  {
   "cell_type": "code",
   "execution_count": 7,
   "metadata": {},
   "outputs": [
    {
     "name": "stdout",
     "output_type": "stream",
     "text": [
      "saisis ton code : 9987\n",
      "ok\n"
     ]
    }
   ],
   "source": [
    "inp = input('saisis ton code : ')\n",
    "if re.match('[\\+\\-\\.]?\\d+?[\\.]?\\d+$', inp):\n",
    "    print('ok')\n",
    "else:\n",
    "    print('saisis de nouveau')"
   ]
  },
  {
   "cell_type": "markdown",
   "metadata": {},
   "source": [
    "##positif ou négatif avec 2 chiffres après la virgule."
   ]
  },
  {
   "cell_type": "code",
   "execution_count": 10,
   "metadata": {},
   "outputs": [
    {
     "name": "stdout",
     "output_type": "stream",
     "text": [
      "saisis ton code : 98.33\n",
      "ok\n"
     ]
    }
   ],
   "source": [
    "inp = input('saisis ton code : ')\n",
    "if re.match('[\\+\\-]?\\d+\\.\\d{2}$', inp):\n",
    "    print('ok')\n",
    "else:\n",
    "    print('saisis de nouveau')"
   ]
  },
  {
   "cell_type": "raw",
   "metadata": {},
   "source": [
    "##Les deux dernières Q : le faire aussi pr la notation américaine (le point fait office de la virgule)."
   ]
  },
  {
   "cell_type": "code",
   "execution_count": 11,
   "metadata": {},
   "outputs": [
    {
     "name": "stdout",
     "output_type": "stream",
     "text": [
      "saisis ton code : 847,46\n",
      "ok\n"
     ]
    }
   ],
   "source": [
    "inp = input('saisis ton code : ')\n",
    "if re.match('[\\+\\-]?\\d+[\\,\\:]?\\d{2}$', inp):\n",
    "    print('ok')\n",
    "else:\n",
    "    print('saisis de nouveau')"
   ]
  },
  {
   "cell_type": "code",
   "execution_count": 12,
   "metadata": {},
   "outputs": [
    {
     "name": "stdout",
     "output_type": "stream",
     "text": [
      "21\n",
      "4,003\n",
      "100.00\n"
     ]
    }
   ],
   "source": [
    "text = '21 scouts and 3 tanks fought against 4,003 protestors, so the manager was not 100.00% happy.'\n",
    "numbers = re.findall('[\\+\\.\\-\\,\\%]?\\d+[\\+\\.\\-\\,\\%]?\\d+',text)\n",
    "ls = []\n",
    "k = 0\n",
    "tex = re.findall('[a-zA-Z]+',text)\n",
    "for m in numbers:\n",
    "    print(m)\n",
    " "
   ]
  },
  {
   "cell_type": "raw",
   "metadata": {},
   "source": [
    "# part 2"
   ]
  },
  {
   "cell_type": "raw",
   "metadata": {},
   "source": [
    "- **Q : Trouver tous les mots en -ism ?**  \n",
    "   - text = 'Capitalism, Communism, Neorealism, Liberalism'\n",
    "- **Q : Trouver tt les \\$ (et les supp) ?**  \n",
    "   - text = '$100'"
   ]
  },
  {
   "cell_type": "code",
   "execution_count": 13,
   "metadata": {},
   "outputs": [
    {
     "data": {
      "text/plain": [
       "['Capitalism', 'Communism', 'Neorealism', 'Liberalism']"
      ]
     },
     "execution_count": 13,
     "metadata": {},
     "output_type": "execute_result"
    }
   ],
   "source": [
    "text = 'Capitalism, Communism, Neorealism, Liberalism'\n",
    "re.findall('[a-zA-Z]+ism',text)"
   ]
  },
  {
   "cell_type": "code",
   "execution_count": 14,
   "metadata": {},
   "outputs": [
    {
     "data": {
      "text/plain": [
       "['100']"
      ]
     },
     "execution_count": 14,
     "metadata": {},
     "output_type": "execute_result"
    }
   ],
   "source": [
    "text = '$100'\n",
    "re.findall('[^$]\\d+',text)"
   ]
  },
  {
   "cell_type": "raw",
   "metadata": {},
   "source": [
    "- **L'équivalent de Ctrl-F ?** \n",
    "    - Vs cherchez un mot ds 1 texte, vs taper ds Word Office Ctrl-F et vs saisissez le mot à trouver. Et ça fonctionne.\n",
    "    - **Q : On le fait avec une regex ! Trouver exactement le mot 'The' ds le texte suivant ?**+   \n",
    "         - text = 'The quick brown fox jumped over the lazy brown bear.'\n",
    "    - Sauf que ds Word ça marche pour une seule recherche (vs deveriez recommencer : *un autre mot = une nouvelle recherche*)\n",
    "    - Avec les regex, c'est possible de rechercher plusieurs mots à la fois.\n",
    "       \n",
    "        - **Q : Chercher si text contient soit 'fox' soit 'snake' soit 'bear' (1 seule ligne de code)**   "
   ]
  },
  {
   "cell_type": "raw",
   "metadata": {},
   "source": [
    "Avec les regex, c'est possible de rechercher plusieurs mots à la fois."
   ]
  },
  {
   "cell_type": "code",
   "execution_count": 16,
   "metadata": {},
   "outputs": [
    {
     "data": {
      "text/plain": [
       "[' brown ', 'lazy ', ' bear']"
      ]
     },
     "execution_count": 16,
     "metadata": {},
     "output_type": "execute_result"
    }
   ],
   "source": [
    "text = 'The quick brown fox jumped over the lazy brown bear.'\n",
    "r = re.compile(r'\\blazy\\b | \\bBROWN\\b | \\bBEAR\\b', flags=re.I)\n",
    "r.findall(text)"
   ]
  },
  {
   "cell_type": "raw",
   "metadata": {},
   "source": [
    "Q: Supposons que ds l'ex suivant que vs vs intéressez à réccupérer tous les mots dont la taille est exactement\n",
    "de 3 caractères ?"
   ]
  },
  {
   "cell_type": "code",
   "execution_count": 27,
   "metadata": {},
   "outputs": [
    {
     "data": {
      "text/plain": [
       "['The', 'fox', 'the']"
      ]
     },
     "execution_count": 27,
     "metadata": {},
     "output_type": "execute_result"
    }
   ],
   "source": [
    "#ça n'est pas un regex mais ça march!\n",
    "words = [word for word in text.split() if len(word) == 3] \n",
    "words"
   ]
  }
 ],
 "metadata": {
  "kernelspec": {
   "display_name": "Python 3",
   "language": "python",
   "name": "python3"
  },
  "language_info": {
   "codemirror_mode": {
    "name": "ipython",
    "version": 3
   },
   "file_extension": ".py",
   "mimetype": "text/x-python",
   "name": "python",
   "nbconvert_exporter": "python",
   "pygments_lexer": "ipython3",
   "version": "3.6.5"
  },
  "varInspector": {
   "cols": {
    "lenName": 16,
    "lenType": 16,
    "lenVar": 40
   },
   "kernels_config": {
    "python": {
     "delete_cmd_postfix": "",
     "delete_cmd_prefix": "del ",
     "library": "var_list.py",
     "varRefreshCmd": "print(var_dic_list())"
    },
    "r": {
     "delete_cmd_postfix": ") ",
     "delete_cmd_prefix": "rm(",
     "library": "var_list.r",
     "varRefreshCmd": "cat(var_dic_list()) "
    }
   },
   "types_to_exclude": [
    "module",
    "function",
    "builtin_function_or_method",
    "instance",
    "_Feature"
   ],
   "window_display": false
  }
 },
 "nbformat": 4,
 "nbformat_minor": 2
}
