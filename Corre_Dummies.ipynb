{
 "cells": [
  {
   "cell_type": "markdown",
   "metadata": {},
   "source": [
    "**Q : Améliorer l'algo de tirage aléatoire pr qu'il soit de tel sorte  :** \n",
    "- **Si un des apprenants participe, il n'aura pas à participer de nouveau (en attendant que ts les autres apprenants participent aussi) ?**\n",
    "- **De renouveller le cycle lorsque tout le monde ait participé ?**"
   ]
  },
  {
   "cell_type": "markdown",
   "metadata": {},
   "source": [
    "**Q : Lire le fichier Dummies.csv (tjrs à l'aide de la fonc générique mis au point et stocké ds le script startup.py) ?**"
   ]
  },
  {
   "cell_type": "code",
   "execution_count": 35,
   "metadata": {},
   "outputs": [
    {
     "name": "stdout",
     "output_type": "stream",
     "text": [
      "C:\\Users\\Raed\\DATA\n"
     ]
    }
   ],
   "source": [
    "import pandas as pd\n",
    "import numpy as np\n",
    "import os\n",
    "\n",
    "my_path = r\"C:\\Users\\Raed\\DATA\"\n",
    "if not os.path.exists(my_path):\n",
    "    os.makedirs(my_path)\n",
    "\n",
    "if os.getcwd() != my_path :\n",
    "    os.chdir(my_path)\n",
    "print(my_path)\n",
    "\n",
    "pd.set_option(\"expand_frame_repr\",False)\n",
    "pd.options.display.max_rows=16#limite l'affiche dans des cols\n",
    "pd.options.display.max_columns=10\n",
    "pd.set_option('colheader_justify', 'left')#alignement de titles\n",
    "pd.set_option('precision',3)#nombres apres le . ## numero 0.1234567\n",
    "pd.set_option('max_colwidth',12)#limiter l'affichage des phrases par exemple dans une cellule\n",
    "\n",
    "df = pd.read_table('Dummies.csv', sep = ',', nrows=5)"
   ]
  },
  {
   "cell_type": "code",
   "execution_count": 36,
   "metadata": {
    "scrolled": true
   },
   "outputs": [
    {
     "data": {
      "text/html": [
       "<div>\n",
       "<style scoped>\n",
       "    .dataframe tbody tr th:only-of-type {\n",
       "        vertical-align: middle;\n",
       "    }\n",
       "\n",
       "    .dataframe tbody tr th {\n",
       "        vertical-align: top;\n",
       "    }\n",
       "\n",
       "    .dataframe thead th {\n",
       "        text-align: right;\n",
       "    }\n",
       "</style>\n",
       "<table border=\"1\" class=\"dataframe\">\n",
       "  <thead>\n",
       "    <tr style=\"text-align: left;\">\n",
       "      <th></th>\n",
       "      <th>PassengerId</th>\n",
       "      <th>Survived</th>\n",
       "      <th>Pclass</th>\n",
       "      <th>Name</th>\n",
       "      <th>Sex</th>\n",
       "      <th>...</th>\n",
       "      <th>Parch</th>\n",
       "      <th>Ticket</th>\n",
       "      <th>Fare</th>\n",
       "      <th>Cabin</th>\n",
       "      <th>Embarked</th>\n",
       "    </tr>\n",
       "  </thead>\n",
       "  <tbody>\n",
       "    <tr>\n",
       "      <th>0</th>\n",
       "      <td>1</td>\n",
       "      <td>0</td>\n",
       "      <td>3</td>\n",
       "      <td>Braund, ...</td>\n",
       "      <td>male</td>\n",
       "      <td>...</td>\n",
       "      <td>0</td>\n",
       "      <td>A/5 21171</td>\n",
       "      <td>7.250</td>\n",
       "      <td>NaN</td>\n",
       "      <td>S</td>\n",
       "    </tr>\n",
       "    <tr>\n",
       "      <th>1</th>\n",
       "      <td>2</td>\n",
       "      <td>1</td>\n",
       "      <td>1</td>\n",
       "      <td>Cumings,...</td>\n",
       "      <td>female</td>\n",
       "      <td>...</td>\n",
       "      <td>0</td>\n",
       "      <td>PC 17599</td>\n",
       "      <td>71.283</td>\n",
       "      <td>C85</td>\n",
       "      <td>C</td>\n",
       "    </tr>\n",
       "    <tr>\n",
       "      <th>2</th>\n",
       "      <td>3</td>\n",
       "      <td>1</td>\n",
       "      <td>3</td>\n",
       "      <td>Heikkine...</td>\n",
       "      <td>female</td>\n",
       "      <td>...</td>\n",
       "      <td>0</td>\n",
       "      <td>STON/O2....</td>\n",
       "      <td>7.925</td>\n",
       "      <td>NaN</td>\n",
       "      <td>S</td>\n",
       "    </tr>\n",
       "    <tr>\n",
       "      <th>3</th>\n",
       "      <td>4</td>\n",
       "      <td>1</td>\n",
       "      <td>1</td>\n",
       "      <td>Futrelle...</td>\n",
       "      <td>female</td>\n",
       "      <td>...</td>\n",
       "      <td>0</td>\n",
       "      <td>113803</td>\n",
       "      <td>53.100</td>\n",
       "      <td>C123</td>\n",
       "      <td>S</td>\n",
       "    </tr>\n",
       "    <tr>\n",
       "      <th>4</th>\n",
       "      <td>5</td>\n",
       "      <td>0</td>\n",
       "      <td>3</td>\n",
       "      <td>Allen, M...</td>\n",
       "      <td>male</td>\n",
       "      <td>...</td>\n",
       "      <td>0</td>\n",
       "      <td>373450</td>\n",
       "      <td>8.050</td>\n",
       "      <td>NaN</td>\n",
       "      <td>S</td>\n",
       "    </tr>\n",
       "  </tbody>\n",
       "</table>\n",
       "<p>5 rows × 12 columns</p>\n",
       "</div>"
      ],
      "text/plain": [
       "   PassengerId  Survived  Pclass Name         Sex        ...     Parch  Ticket       Fare   Cabin  Embarked\n",
       "0  1            0         3       Braund, ...    male    ...     0        A/5 21171   7.250   NaN  S       \n",
       "1  2            1         1       Cumings,...  female    ...     0         PC 17599  71.283   C85  C       \n",
       "2  3            1         3       Heikkine...  female    ...     0      STON/O2....   7.925   NaN  S       \n",
       "3  4            1         1       Futrelle...  female    ...     0           113803  53.100  C123  S       \n",
       "4  5            0         3       Allen, M...    male    ...     0           373450   8.050   NaN  S       \n",
       "\n",
       "[5 rows x 12 columns]"
      ]
     },
     "execution_count": 36,
     "metadata": {},
     "output_type": "execute_result"
    }
   ],
   "source": [
    "df"
   ]
  },
  {
   "cell_type": "code",
   "execution_count": 37,
   "metadata": {},
   "outputs": [],
   "source": [
    "list_case = [\n",
    "        \"camel\",\n",
    "        \"camelCase\",\n",
    "        \"CamelCase\",\n",
    "        \"CAMELCASE\",\n",
    "        \"camelcase\",\n",
    "        \"Camelcase\",\n",
    "        \"Case\"\n",
    "        ]"
   ]
  },
  {
   "cell_type": "markdown",
   "metadata": {},
   "source": [
    "**Q : Tester si chaque élément de la liste suivante comporte des maj et en miniscule (à la fois) ?**"
   ]
  },
  {
   "cell_type": "code",
   "execution_count": 38,
   "metadata": {},
   "outputs": [
    {
     "name": "stdout",
     "output_type": "stream",
     "text": [
      "camel est lower\n",
      "camelCase est lower et upper\n",
      "CamelCase est lower et upper\n",
      "CAMELCASE est upper\n",
      "camelcase est lower\n",
      "Camelcase est lower et upper\n",
      "Case est lower et upper\n"
     ]
    }
   ],
   "source": [
    "#not word.islower() and not word.isupper() :\n",
    "list_case = [\n",
    "        \"camel\",\n",
    "        \"camelCase\",\n",
    "        \"CamelCase\",\n",
    "        \"CAMELCASE\",\n",
    "        \"camelcase\",\n",
    "        \"Camelcase\",\n",
    "        \"Case\"\n",
    "        ]\n",
    "\n",
    "for word in list_case :\n",
    "    if word.islower() :\n",
    "        print(word + \" est lower\")\n",
    "    elif word.isupper() :\n",
    "        print(word + \" est upper\")\n",
    "    else :\n",
    "        print(word + \" est lower et upper\")        "
   ]
  },
  {
   "cell_type": "markdown",
   "metadata": {},
   "source": [
    "**Q : Quelle est le format d'écriture des noms des vars (PassengerId, Pclass, SibSp) ?** Indice : lower case, camel case, pascal case,... ?  \n",
    "Obj final : Maîtriser ces diff case (camel, pascal,...) pr avoir le même jargon des développeurs !  "
   ]
  },
  {
   "cell_type": "raw",
   "metadata": {
    "collapsed": true
   },
   "source": [
    "camel case : première lettre est en bas-de-casse\n",
    "pascal case : commençant par une capitale"
   ]
  },
  {
   "cell_type": "markdown",
   "metadata": {},
   "source": [
    "A ce stade, comme petite application ns allons appliquer ces notions de case aux noms des cols du df. L'idée est de détecter automtq la casse des noms des cols. En fait, ns allons vu jusqu'à maintenant qu'il vaut mieux mettre tt en miniscule et de remplacer les espaces par '_'.   \n",
    "Par exemple : 'Passenger Id' => 'passenger_id'  \n",
    "Or 'Passenger Id' s'écrit maintenant 'PassengerId'. Du coup, si on applique notre méthode (sans faire attention) 'PassengerId' devient 'passengerid' (ce que ns souhaitons éviter parcq le nom du col devient illisible).  \n",
    "**Q : Créer 1fonc qui permet de détecter si les noms des cols s'écrit sous la forme 'PassengerId' ou 'Passenger Id' ?**  \n",
    "- Si c'est le cas de 'Passenger Id', du coup on applique notre méthode (lower(), replace(' ', '_'))\n",
    "- Si c'est le cas de 'PassengerId', on ne fait rien.\n",
    "Sauvegarder la fon ds le script startup.py (pr l'utiliser au besoin). "
   ]
  },
  {
   "cell_type": "code",
   "execution_count": 39,
   "metadata": {},
   "outputs": [],
   "source": [
    "def espace(liste):\n",
    "    for word in liste:\n",
    "        if ' ' in word:\n",
    "            print (True)\n",
    "        else:\n",
    "            print (False)        "
   ]
  },
  {
   "cell_type": "code",
   "execution_count": 40,
   "metadata": {},
   "outputs": [
    {
     "name": "stdout",
     "output_type": "stream",
     "text": [
      "False\n",
      "False\n",
      "False\n",
      "False\n",
      "False\n",
      "False\n",
      "False\n"
     ]
    }
   ],
   "source": [
    "espace(list_case)"
   ]
  },
  {
   "cell_type": "code",
   "execution_count": 41,
   "metadata": {},
   "outputs": [],
   "source": [
    "def check(liste):\n",
    "    liste_vide = []\n",
    "    for word in liste:\n",
    "        if ' ' in word:\n",
    "            liste_vide.append(word.replace(' ','_').lower())\n",
    "        else:\n",
    "             liste_vide.append(word.lower())\n",
    "    return liste_vide"
   ]
  },
  {
   "cell_type": "code",
   "execution_count": 42,
   "metadata": {},
   "outputs": [
    {
     "data": {
      "text/plain": [
       "['camel',\n",
       " 'camelcase',\n",
       " 'camelcase',\n",
       " 'camelcase',\n",
       " 'camelcase',\n",
       " 'camelcase',\n",
       " 'case']"
      ]
     },
     "execution_count": 42,
     "metadata": {},
     "output_type": "execute_result"
    }
   ],
   "source": [
    "check(list_case)"
   ]
  },
  {
   "cell_type": "markdown",
   "metadata": {},
   "source": [
    "**Q : Créer également 1fonc qui permet de renommer les cols de tel sorte PassengerId devient z0_PassengerId, z1_Survived,..., z11_Embarked ?**  \n",
    "Remarquer maintenant que l'autocomplétion des noms des vars devient plus pratique !"
   ]
  },
  {
   "cell_type": "code",
   "execution_count": 43,
   "metadata": {},
   "outputs": [
    {
     "data": {
      "text/plain": [
       "Index(['z000_PassengerId', 'z001_Survived', 'z002_Pclass', 'z003_Name',\n",
       "       'z004_Sex', 'z005_Age', 'z006_SibSp', 'z007_Parch', 'z008_Ticket',\n",
       "       'z009_Fare', 'z010_Cabin', 'z011_Embarked'],\n",
       "      dtype='object')"
      ]
     },
     "execution_count": 43,
     "metadata": {},
     "output_type": "execute_result"
    }
   ],
   "source": [
    "ma=len(str(df.shape[1]))+1\n",
    "liste=[]\n",
    "compteur = 0\n",
    "for col in df.columns:\n",
    "    col=(\"z{:0{}}_{}\".format(compteur,ma,col))\n",
    "    liste.append(col)\n",
    "    compteur +=1  \n",
    "df.columns=liste\n",
    "df.columns"
   ]
  },
  {
   "cell_type": "code",
   "execution_count": 44,
   "metadata": {},
   "outputs": [
    {
     "data": {
      "text/plain": [
       "['z000_PassengerId',\n",
       " 'z001_Survived',\n",
       " 'z002_Pclass',\n",
       " 'z003_Name',\n",
       " 'z004_Sex',\n",
       " 'z005_Age',\n",
       " 'z006_SibSp',\n",
       " 'z007_Parch',\n",
       " 'z008_Ticket',\n",
       " 'z009_Fare',\n",
       " 'z010_Cabin',\n",
       " 'z011_Embarked']"
      ]
     },
     "execution_count": 44,
     "metadata": {},
     "output_type": "execute_result"
    }
   ],
   "source": [
    "df.columns.tolist()"
   ]
  },
  {
   "cell_type": "code",
   "execution_count": 57,
   "metadata": {},
   "outputs": [
    {
     "data": {
      "text/plain": [
       "['z000_PassengerId',\n",
       " 'z001_Survived',\n",
       " 'z002_Pclass',\n",
       " 'z003_Name',\n",
       " 'z004_Sex',\n",
       " 'z005_Age',\n",
       " 'z006_SibSp',\n",
       " 'z007_Parch',\n",
       " 'z008_Ticket',\n",
       " 'z009_Fare',\n",
       " 'z010_Cabin',\n",
       " 'z011_Embarked']"
      ]
     },
     "execution_count": 57,
     "metadata": {},
     "output_type": "execute_result"
    }
   ],
   "source": [
    "#-> plus rapide\n",
    "df.columns.values.tolist()"
   ]
  },
  {
   "cell_type": "markdown",
   "metadata": {},
   "source": [
    "**Obj final : Créer 1fonc générique qui permet d'optimiser la taille mémoire consommée par le df (en allouant aux cols les meilleurs types possibles : int8, uint8, categorical,...) ? Vs pouvez stocker cette fonc ds le script startup.py (et l'utiliser au besoin).**\n",
    "- Appliquer votre fonc au df (créer une copie \"df1\", n'écraser pas le df initial) ? Rajouter \"1\" aux noms des cols df1, exemple 'z0_PassengerId' => 'z0_PassengerId1' (afin de ne pas se perdre entre les cols de chaque df)."
   ]
  },
  {
   "cell_type": "code",
   "execution_count": 48,
   "metadata": {},
   "outputs": [
    {
     "data": {
      "text/plain": [
       "Index(['z000_PassengerId1', 'z001_Survived1', 'z002_Pclass1', 'z003_Name1',\n",
       "       'z004_Sex1', 'z005_Age1', 'z006_SibSp1', 'z007_Parch1', 'z008_Ticket1',\n",
       "       'z009_Fare1', 'z010_Cabin1', 'z011_Embarked1'],\n",
       "      dtype='object')"
      ]
     },
     "execution_count": 48,
     "metadata": {},
     "output_type": "execute_result"
    }
   ],
   "source": [
    "df1 = df\n",
    "df1\n",
    "index_list = df1.columns.values.tolist()\n",
    "index_list \n",
    "for i in range (0,len(index_list)):\n",
    "    index_list[i] = index_list[i]+'1'\n",
    "df1.columns = index_list\n",
    "df1.columns"
   ]
  },
  {
   "cell_type": "code",
   "execution_count": 14,
   "metadata": {},
   "outputs": [
    {
     "data": {
      "text/plain": [
       "PassengerId1      int64\n",
       "Survived1         int64\n",
       "Pclass1           int64\n",
       "Name1            object\n",
       "Sex1             object\n",
       "Age1              int64\n",
       "SibSp1            int64\n",
       "Parch1            int64\n",
       "Ticket1          object\n",
       "Fare1           float64\n",
       "Cabin1           object\n",
       "Embarked1        object\n",
       "dtype: object"
      ]
     },
     "execution_count": 14,
     "metadata": {},
     "output_type": "execute_result"
    }
   ],
   "source": [
    "df1.dtypes"
   ]
  },
  {
   "cell_type": "code",
   "execution_count": 49,
   "metadata": {},
   "outputs": [
    {
     "name": "stderr",
     "output_type": "stream",
     "text": [
      "C:\\Users\\Raed\\Anaconda3\\lib\\site-packages\\ipykernel_launcher.py:3: UserWarning: Pandas doesn't allow columns to be created via a new attribute name - see https://pandas.pydata.org/pandas-docs/stable/indexing.html#attribute-access\n",
      "  This is separate from the ipykernel package so we can avoid doing imports until\n"
     ]
    },
    {
     "data": {
      "text/plain": [
       "dtype('uint8')"
      ]
     },
     "execution_count": 49,
     "metadata": {},
     "output_type": "execute_result"
    }
   ],
   "source": [
    "#df1_int = list(df1.select_dtypes(include='int'))\n",
    "#df1_int\n",
    "df1.z000_PassengerId11 = pd.to_numeric(df1.z000_PassengerId1,downcast='unsigned')\n",
    "df1.z000_PassengerId11.dtype"
   ]
  },
  {
   "cell_type": "code",
   "execution_count": 16,
   "metadata": {},
   "outputs": [
    {
     "data": {
      "text/plain": [
       "['PassengerId1',\n",
       " 'Survived1',\n",
       " 'Pclass1',\n",
       " 'Name1',\n",
       " 'Sex1',\n",
       " 'Age1',\n",
       " 'SibSp1',\n",
       " 'Parch1',\n",
       " 'Ticket1',\n",
       " 'Fare1',\n",
       " 'Cabin1',\n",
       " 'Embarked1']"
      ]
     },
     "execution_count": 16,
     "metadata": {},
     "output_type": "execute_result"
    }
   ],
   "source": [
    "df.columns.values.tolist()"
   ]
  },
  {
   "cell_type": "code",
   "execution_count": 50,
   "metadata": {},
   "outputs": [],
   "source": [
    "df_obj = df1.select_dtypes(include = 'object').columns.values.tolist()\n",
    "df_int = df1.select_dtypes(include='int').columns.values.tolist()\n",
    "for col in df_obj :\n",
    "    num_unique_values = df1[col].nunique()\n",
    "    num_total_values = len(df1[col])\n",
    "    if num_unique_values/num_total_values <0.5:\n",
    "        df1.loc[:,col] = df1[col].astype('category')\n",
    "    else:\n",
    "        df1.loc[:,col] = df1[col]\n",
    "        \n",
    "for col in df_int :\n",
    "    if  df1[col].min() > 0 :\n",
    "        df1[col] = pd.to_numeric(df1[col],downcast='unsigned')\n",
    "    else:\n",
    "        df1[col] = pd.to_numeric(df1[col],downcast='signed')"
   ]
  },
  {
   "cell_type": "code",
   "execution_count": 51,
   "metadata": {},
   "outputs": [
    {
     "data": {
      "text/plain": [
       "['z003_Name1', 'z008_Ticket1']"
      ]
     },
     "execution_count": 51,
     "metadata": {},
     "output_type": "execute_result"
    }
   ],
   "source": [
    "df1.select_dtypes(include = 'object').columns.values.tolist()"
   ]
  },
  {
   "cell_type": "code",
   "execution_count": 52,
   "metadata": {},
   "outputs": [],
   "source": [
    "def optimize_type(df):\n",
    "    df_obj = list(df.select_dtypes(include = 'object'))\n",
    "    \n",
    "    for col in df_obj:\n",
    "        num_unique_values = len(df[col].unique())\n",
    "        num_total_values = len(df[col])\n",
    "    if num_unique_values/num_total_values <0.5:\n",
    "        df.loc[:,col] = df[col].astype('category')\n",
    "    else:\n",
    "        df.loc[:,col] = df[col]\n",
    "        \n",
    "    df_int = df.select_dtypes(include=['int'])\n",
    "    df = df_int.apply(pd.to_numeric,downcast='unsigned')\n",
    "    return df   "
   ]
  },
  {
   "cell_type": "code",
   "execution_count": 53,
   "metadata": {},
   "outputs": [
    {
     "data": {
      "text/html": [
       "<div>\n",
       "<style scoped>\n",
       "    .dataframe tbody tr th:only-of-type {\n",
       "        vertical-align: middle;\n",
       "    }\n",
       "\n",
       "    .dataframe tbody tr th {\n",
       "        vertical-align: top;\n",
       "    }\n",
       "\n",
       "    .dataframe thead th {\n",
       "        text-align: right;\n",
       "    }\n",
       "</style>\n",
       "<table border=\"1\" class=\"dataframe\">\n",
       "  <thead>\n",
       "    <tr style=\"text-align: left;\">\n",
       "      <th></th>\n",
       "      <th>z000_PassengerId1</th>\n",
       "      <th>z001_Survived1</th>\n",
       "      <th>z002_Pclass1</th>\n",
       "      <th>z003_Name1</th>\n",
       "      <th>z004_Sex1</th>\n",
       "      <th>...</th>\n",
       "      <th>z007_Parch1</th>\n",
       "      <th>z008_Ticket1</th>\n",
       "      <th>z009_Fare1</th>\n",
       "      <th>z010_Cabin1</th>\n",
       "      <th>z011_Embarked1</th>\n",
       "    </tr>\n",
       "  </thead>\n",
       "  <tbody>\n",
       "    <tr>\n",
       "      <th>0</th>\n",
       "      <td>1</td>\n",
       "      <td>0</td>\n",
       "      <td>3</td>\n",
       "      <td>Braund, ...</td>\n",
       "      <td>male</td>\n",
       "      <td>...</td>\n",
       "      <td>0</td>\n",
       "      <td>A/5 21171</td>\n",
       "      <td>7.250</td>\n",
       "      <td>NaN</td>\n",
       "      <td>S</td>\n",
       "    </tr>\n",
       "    <tr>\n",
       "      <th>1</th>\n",
       "      <td>2</td>\n",
       "      <td>1</td>\n",
       "      <td>1</td>\n",
       "      <td>Cumings,...</td>\n",
       "      <td>female</td>\n",
       "      <td>...</td>\n",
       "      <td>0</td>\n",
       "      <td>PC 17599</td>\n",
       "      <td>71.283</td>\n",
       "      <td>C85</td>\n",
       "      <td>C</td>\n",
       "    </tr>\n",
       "    <tr>\n",
       "      <th>2</th>\n",
       "      <td>3</td>\n",
       "      <td>1</td>\n",
       "      <td>3</td>\n",
       "      <td>Heikkine...</td>\n",
       "      <td>female</td>\n",
       "      <td>...</td>\n",
       "      <td>0</td>\n",
       "      <td>STON/O2....</td>\n",
       "      <td>7.925</td>\n",
       "      <td>NaN</td>\n",
       "      <td>S</td>\n",
       "    </tr>\n",
       "    <tr>\n",
       "      <th>3</th>\n",
       "      <td>4</td>\n",
       "      <td>1</td>\n",
       "      <td>1</td>\n",
       "      <td>Futrelle...</td>\n",
       "      <td>female</td>\n",
       "      <td>...</td>\n",
       "      <td>0</td>\n",
       "      <td>113803</td>\n",
       "      <td>53.100</td>\n",
       "      <td>C123</td>\n",
       "      <td>S</td>\n",
       "    </tr>\n",
       "    <tr>\n",
       "      <th>4</th>\n",
       "      <td>5</td>\n",
       "      <td>0</td>\n",
       "      <td>3</td>\n",
       "      <td>Allen, M...</td>\n",
       "      <td>male</td>\n",
       "      <td>...</td>\n",
       "      <td>0</td>\n",
       "      <td>373450</td>\n",
       "      <td>8.050</td>\n",
       "      <td>NaN</td>\n",
       "      <td>S</td>\n",
       "    </tr>\n",
       "  </tbody>\n",
       "</table>\n",
       "<p>5 rows × 12 columns</p>\n",
       "</div>"
      ],
      "text/plain": [
       "   z000_PassengerId1  z001_Survived1  z002_Pclass1 z003_Name1   z004_Sex1       ...        z007_Parch1  z008_Ticket1  z009_Fare1 z010_Cabin1  z011_Embarked1\n",
       "0  1                  0               3             Braund, ...    male         ...        0              A/5 21171    7.250       NaN        S             \n",
       "1  2                  1               1             Cumings,...  female         ...        0               PC 17599   71.283       C85        C             \n",
       "2  3                  1               3             Heikkine...  female         ...        0            STON/O2....    7.925       NaN        S             \n",
       "3  4                  1               1             Futrelle...  female         ...        0                 113803   53.100      C123        S             \n",
       "4  5                  0               3             Allen, M...    male         ...        0                 373450    8.050       NaN        S             \n",
       "\n",
       "[5 rows x 12 columns]"
      ]
     },
     "execution_count": 53,
     "metadata": {},
     "output_type": "execute_result"
    }
   ],
   "source": [
    "df1"
   ]
  },
  {
   "cell_type": "code",
   "execution_count": 54,
   "metadata": {},
   "outputs": [
    {
     "data": {
      "text/plain": [
       "z000_PassengerId1       int64\n",
       "z001_Survived1          int64\n",
       "z002_Pclass1            int64\n",
       "z003_Name1             object\n",
       "z004_Sex1            category\n",
       "z005_Age1               int64\n",
       "z006_SibSp1             int64\n",
       "z007_Parch1             int64\n",
       "z008_Ticket1           object\n",
       "z009_Fare1            float64\n",
       "z010_Cabin1          category\n",
       "z011_Embarked1       category\n",
       "dtype: object"
      ]
     },
     "execution_count": 54,
     "metadata": {},
     "output_type": "execute_result"
    }
   ],
   "source": [
    "df1.dtypes"
   ]
  },
  {
   "cell_type": "markdown",
   "metadata": {},
   "source": [
    "Ds ce que suit, ns allons travaillons sur les 2 df.  \n",
    "- **La col 'z4_Sex1' de type maintenant categorical comporte deux modalités (female = 0, male = 1) ; à vérifier ?**  \n",
    "- **La col 'z11_Embarqued1' de type maintenant categorical comporte trois modalités (C = 0, Q = 1 et S = 2) ; à vérifier ?**\n",
    "- **Q : Ns ns concentrons sur les cols 'z11_embarqued' et 'z11_embarqued1'. L'idée est de construire 3 variables à partir de cette col : 'embarked_c', 'embarked_q' et 'embarked_s'.**  Evidemment, adapter les noms de ces nouvelles cols (à notre convention). \n",
    "embarked_c = 1 si embarqued == 'C', 0 sinon  \n",
    "embarked_q = 1 si embarqued == 'Q', 0 sinon  \n",
    "embarked_s = 1 si embarqued == 'S', 0 sinon  \n",
    "L'ensemble de ces vars sont ce qu'on appelle des dummies (ou var muette, dichotomique) !  \n",
    "**Q : Utiliser successivement les méthodes suivantes : 'if', 'map', get_dummies (sur les 2df) **\n",
    "**Q : Peut-t-on convertir systématiquement les cols de type objects en type Categorical ?**   "
   ]
  },
  {
   "cell_type": "code",
   "execution_count": 55,
   "metadata": {},
   "outputs": [
    {
     "data": {
      "text/html": [
       "<div>\n",
       "<style scoped>\n",
       "    .dataframe tbody tr th:only-of-type {\n",
       "        vertical-align: middle;\n",
       "    }\n",
       "\n",
       "    .dataframe tbody tr th {\n",
       "        vertical-align: top;\n",
       "    }\n",
       "\n",
       "    .dataframe thead th {\n",
       "        text-align: right;\n",
       "    }\n",
       "</style>\n",
       "<table border=\"1\" class=\"dataframe\">\n",
       "  <thead>\n",
       "    <tr style=\"text-align: left;\">\n",
       "      <th></th>\n",
       "      <th>z000_PassengerId1</th>\n",
       "      <th>z001_Survived1</th>\n",
       "      <th>z002_Pclass1</th>\n",
       "      <th>z005_Age1</th>\n",
       "      <th>z006_SibSp1</th>\n",
       "      <th>...</th>\n",
       "      <th>z008_Ticket1_STON/O2. 3101282</th>\n",
       "      <th>z010_Cabin1_C123</th>\n",
       "      <th>z010_Cabin1_C85</th>\n",
       "      <th>z011_Embarked1_C</th>\n",
       "      <th>z011_Embarked1_S</th>\n",
       "    </tr>\n",
       "  </thead>\n",
       "  <tbody>\n",
       "    <tr>\n",
       "      <th>0</th>\n",
       "      <td>1</td>\n",
       "      <td>0</td>\n",
       "      <td>3</td>\n",
       "      <td>22</td>\n",
       "      <td>1</td>\n",
       "      <td>...</td>\n",
       "      <td>0</td>\n",
       "      <td>0</td>\n",
       "      <td>0</td>\n",
       "      <td>0</td>\n",
       "      <td>1</td>\n",
       "    </tr>\n",
       "    <tr>\n",
       "      <th>1</th>\n",
       "      <td>2</td>\n",
       "      <td>1</td>\n",
       "      <td>1</td>\n",
       "      <td>38</td>\n",
       "      <td>1</td>\n",
       "      <td>...</td>\n",
       "      <td>0</td>\n",
       "      <td>0</td>\n",
       "      <td>1</td>\n",
       "      <td>1</td>\n",
       "      <td>0</td>\n",
       "    </tr>\n",
       "    <tr>\n",
       "      <th>2</th>\n",
       "      <td>3</td>\n",
       "      <td>1</td>\n",
       "      <td>3</td>\n",
       "      <td>26</td>\n",
       "      <td>0</td>\n",
       "      <td>...</td>\n",
       "      <td>1</td>\n",
       "      <td>0</td>\n",
       "      <td>0</td>\n",
       "      <td>0</td>\n",
       "      <td>1</td>\n",
       "    </tr>\n",
       "    <tr>\n",
       "      <th>3</th>\n",
       "      <td>4</td>\n",
       "      <td>1</td>\n",
       "      <td>1</td>\n",
       "      <td>35</td>\n",
       "      <td>1</td>\n",
       "      <td>...</td>\n",
       "      <td>0</td>\n",
       "      <td>1</td>\n",
       "      <td>0</td>\n",
       "      <td>0</td>\n",
       "      <td>1</td>\n",
       "    </tr>\n",
       "    <tr>\n",
       "      <th>4</th>\n",
       "      <td>5</td>\n",
       "      <td>0</td>\n",
       "      <td>3</td>\n",
       "      <td>35</td>\n",
       "      <td>0</td>\n",
       "      <td>...</td>\n",
       "      <td>0</td>\n",
       "      <td>0</td>\n",
       "      <td>0</td>\n",
       "      <td>0</td>\n",
       "      <td>1</td>\n",
       "    </tr>\n",
       "  </tbody>\n",
       "</table>\n",
       "<p>5 rows × 23 columns</p>\n",
       "</div>"
      ],
      "text/plain": [
       "   z000_PassengerId1  z001_Survived1  z002_Pclass1  z005_Age1  z006_SibSp1        ...         z008_Ticket1_STON/O2. 3101282  z010_Cabin1_C123  z010_Cabin1_C85  z011_Embarked1_C  z011_Embarked1_S\n",
       "0  1                  0               3             22         1                  ...         0                              0                 0                0                 1               \n",
       "1  2                  1               1             38         1                  ...         0                              0                 1                1                 0               \n",
       "2  3                  1               3             26         0                  ...         1                              0                 0                0                 1               \n",
       "3  4                  1               1             35         1                  ...         0                              1                 0                0                 1               \n",
       "4  5                  0               3             35         0                  ...         0                              0                 0                0                 1               \n",
       "\n",
       "[5 rows x 23 columns]"
      ]
     },
     "execution_count": 55,
     "metadata": {},
     "output_type": "execute_result"
    }
   ],
   "source": [
    "#df.select_dtypes(include = 'object')\n",
    "#df.select_dtypes(include = 'category')\n",
    "df4=pd.get_dummies(data=df,columns=df.select_dtypes(include = ['object','category']).columns.values.tolist(),drop_first=False)\n",
    "df4"
   ]
  },
  {
   "cell_type": "code",
   "execution_count": 56,
   "metadata": {},
   "outputs": [
    {
     "data": {
      "text/plain": [
       "pandas.core.frame.DataFrame"
      ]
     },
     "execution_count": 56,
     "metadata": {},
     "output_type": "execute_result"
    }
   ],
   "source": [
    "type(df.select_dtypes(include = 'object'))"
   ]
  }
 ],
 "metadata": {
  "kernelspec": {
   "display_name": "Python 3",
   "language": "python",
   "name": "python3"
  },
  "language_info": {
   "codemirror_mode": {
    "name": "ipython",
    "version": 3
   },
   "file_extension": ".py",
   "mimetype": "text/x-python",
   "name": "python",
   "nbconvert_exporter": "python",
   "pygments_lexer": "ipython3",
   "version": "3.6.5"
  },
  "varInspector": {
   "cols": {
    "lenName": 16,
    "lenType": 16,
    "lenVar": 40
   },
   "kernels_config": {
    "python": {
     "delete_cmd_postfix": "",
     "delete_cmd_prefix": "del ",
     "library": "var_list.py",
     "varRefreshCmd": "print(var_dic_list())"
    },
    "r": {
     "delete_cmd_postfix": ") ",
     "delete_cmd_prefix": "rm(",
     "library": "var_list.r",
     "varRefreshCmd": "cat(var_dic_list()) "
    }
   },
   "types_to_exclude": [
    "module",
    "function",
    "builtin_function_or_method",
    "instance",
    "_Feature"
   ],
   "window_display": false
  }
 },
 "nbformat": 4,
 "nbformat_minor": 2
}
